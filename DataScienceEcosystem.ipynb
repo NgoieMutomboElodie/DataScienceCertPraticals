{
 "cells": [
  {
   "cell_type": "markdown",
   "id": "2fc7f132-edd3-4e12-9aec-2af73b25e9d1",
   "metadata": {},
   "source": [
    "# Data Science Tools and Ecosystem"
   ]
  },
  {
   "cell_type": "markdown",
   "id": "1cee0bb3-6a14-4de3-91ae-1abc4d4374a8",
   "metadata": {},
   "source": [
    "In this notebook, Data Science Tools and Ecosystem are summarised"
   ]
  },
  {
   "cell_type": "markdown",
   "id": "ff3b3da3-3e73-4818-82b9-bbd45041d97f",
   "metadata": {},
   "source": [
    "**Objectives**\n",
    "+ Data Scients Languages\n",
    "+ Data Science Libraries\n",
    "+ Creating Heading, Text, Tables in Jupyter Notebook\n",
    "+ Data Science Developement Enviroments\n",
    "+ Simple Arithmetic opertions in Python"
   ]
  },
  {
   "cell_type": "markdown",
   "id": "562c5c93-9d6f-40e1-a8d6-a5ad00c4d429",
   "metadata": {},
   "source": [
    "Some of the popular languages that Data Scientists use are:"
   ]
  },
  {
   "cell_type": "markdown",
   "id": "5eaf213d-85ad-4a80-80fc-551b2c8b450f",
   "metadata": {},
   "source": [
    "1. Python\n",
    "2. R language\n",
    "3. Java"
   ]
  },
  {
   "cell_type": "markdown",
   "id": "64939fd4-f6c7-44b1-872c-1c3a8948b65a",
   "metadata": {},
   "source": [
    "Some of the commoly used libraries by Data Scientists include:"
   ]
  },
  {
   "cell_type": "markdown",
   "id": "432bf2d1-ac05-47db-ad9b-f196065d936d",
   "metadata": {},
   "source": [
    "1. Pandas\n",
    "2. TensorFlow\n",
    "3. Keras\n",
    "4. Caret\n",
    "5. ScikitLearn\n",
    "6. Matplotlib\n",
    "7. NLTK\n",
    "8. NumPy"
   ]
  },
  {
   "cell_type": "markdown",
   "id": "4f646677-a0c9-45a5-83b5-4de07aab386c",
   "metadata": {},
   "source": [
    "Data Science Tools|\n",
    "------------------\n",
    "Jupyter Notebooks|\n",
    "JupyterLab|\n",
    "RStudio\n"
   ]
  },
  {
   "cell_type": "markdown",
   "id": "18d52c41-ec1d-4435-8316-c821ec03e283",
   "metadata": {},
   "source": [
    "### Below are the few examples of evaluating  arithmetic expressions in Python:"
   ]
  },
  {
   "cell_type": "code",
   "execution_count": 1,
   "id": "c674b598-ad38-4c68-9e7f-dbca42015834",
   "metadata": {},
   "outputs": [
    {
     "data": {
      "text/plain": [
       "17"
      ]
     },
     "execution_count": 1,
     "metadata": {},
     "output_type": "execute_result"
    }
   ],
   "source": [
    "# This is a simple arithmetic expression to multiply then add integers\n",
    "(3*4)+5"
   ]
  },
  {
   "cell_type": "code",
   "execution_count": 10,
   "id": "27fa97be-e322-4260-9018-d71ef4b5b3be",
   "metadata": {},
   "outputs": [
    {
     "name": "stdout",
     "output_type": "stream",
     "text": [
      "3 hours\n",
      "20 minutes\n"
     ]
    }
   ],
   "source": [
    "# This will convert 200 minutes to hours by dividing by 60\n",
    "h = 200//60\n",
    "m = 200%60\n",
    "print(h,'hours')\n",
    "print (m,'minutes')"
   ]
  },
  {
   "cell_type": "markdown",
   "id": "be007cae-a832-4f6a-abc9-a0995d68a090",
   "metadata": {},
   "source": [
    "## Author\n",
    "Elodie Ngoie"
   ]
  },
  {
   "cell_type": "code",
   "execution_count": null,
   "id": "dd3ad966-10cc-4d2e-80ab-d242344a48eb",
   "metadata": {},
   "outputs": [],
   "source": []
  }
 ],
 "metadata": {
  "kernelspec": {
   "display_name": "Python 3 (ipykernel)",
   "language": "python",
   "name": "python3"
  },
  "language_info": {
   "codemirror_mode": {
    "name": "ipython",
    "version": 3
   },
   "file_extension": ".py",
   "mimetype": "text/x-python",
   "name": "python",
   "nbconvert_exporter": "python",
   "pygments_lexer": "ipython3",
   "version": "3.11.8"
  }
 },
 "nbformat": 4,
 "nbformat_minor": 5
}
